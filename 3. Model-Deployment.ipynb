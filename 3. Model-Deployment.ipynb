{
 "cells": [
  {
   "cell_type": "code",
   "execution_count": 1,
   "id": "be4f45f6",
   "metadata": {},
   "outputs": [],
   "source": [
    "#Make necessary imports\n",
    "import warnings\n",
    "warnings.filterwarnings(\"ignore\")\n",
    "\n",
    "import numpy as np\n",
    "import pandas as pd\n",
    "import os, sys\n",
    "import lux\n",
    "from sklearn.preprocessing import MinMaxScaler\n",
    "from xgboost import XGBClassifier\n",
    "from sklearn.model_selection import train_test_split\n",
    "from sklearn.metrics import accuracy_score\n",
    "import seaborn as sns\n",
    "sns.set()"
   ]
  },
  {
   "cell_type": "code",
   "execution_count": 3,
   "id": "607aa365",
   "metadata": {},
   "outputs": [
    {
     "data": {
      "application/vnd.jupyter.widget-view+json": {
       "model_id": "c43e7534c24e4b9590439ab8b59441d7",
       "version_major": 2,
       "version_minor": 0
      },
      "text/plain": [
       "Button(description='Toggle Pandas/Lux', layout=Layout(top='5px', width='140px'), style=ButtonStyle())"
      ]
     },
     "metadata": {},
     "output_type": "display_data"
    },
    {
     "data": {
      "application/vnd.jupyter.widget-view+json": {
       "model_id": "a7c727b6b61343f98b2b996167f39c7b",
       "version_major": 2,
       "version_minor": 0
      },
      "text/plain": [
       "Output()"
      ]
     },
     "metadata": {},
     "output_type": "display_data"
    }
   ],
   "source": [
    "df = pd.read_csv('kidney_disease.csv')[['age','wc','htn','dm','classification']]\n",
    "df.head(n=10)"
   ]
  },
  {
   "cell_type": "code",
   "execution_count": 4,
   "id": "582e0232",
   "metadata": {},
   "outputs": [
    {
     "data": {
      "application/vnd.jupyter.widget-view+json": {
       "model_id": "55d09c1b05024118acbb8d0a4d7fad0b",
       "version_major": 2,
       "version_minor": 0
      },
      "text/plain": [
       "Button(description='Toggle Pandas/Lux', layout=Layout(top='5px', width='140px'), style=ButtonStyle())"
      ]
     },
     "metadata": {},
     "output_type": "display_data"
    },
    {
     "data": {
      "application/vnd.jupyter.widget-view+json": {
       "model_id": "ce7718c7c9c540daa013874fb884aeb8",
       "version_major": 2,
       "version_minor": 0
      },
      "text/plain": [
       "Output()"
      ]
     },
     "metadata": {},
     "output_type": "display_data"
    }
   ],
   "source": [
    "#find null Values in the data set\n",
    "\n",
    "df.isnull().sum()"
   ]
  },
  {
   "cell_type": "code",
   "execution_count": 5,
   "id": "51e47c71",
   "metadata": {},
   "outputs": [
    {
     "data": {
      "application/vnd.jupyter.widget-view+json": {
       "model_id": "e910f70c6a884bc085d3cf3d602cb24b",
       "version_major": 2,
       "version_minor": 0
      },
      "text/plain": [
       "Button(description='Toggle Pandas/Lux', layout=Layout(top='5px', width='140px'), style=ButtonStyle())"
      ]
     },
     "metadata": {},
     "output_type": "display_data"
    },
    {
     "data": {
      "application/vnd.jupyter.widget-view+json": {
       "model_id": "777212e00adc4fa9a60e4dbbbec104dd",
       "version_major": 2,
       "version_minor": 0
      },
      "text/plain": [
       "Output()"
      ]
     },
     "metadata": {},
     "output_type": "display_data"
    }
   ],
   "source": [
    "# Impuing Null values\n",
    "\n",
    "from sklearn.impute import SimpleImputer\n",
    "imp_mode = SimpleImputer(missing_values=np.nan, strategy='most_frequent')\n",
    "\n",
    "df_imputed=pd.DataFrame(imp_mode.fit_transform(df))\n",
    "df_imputed.columns=df.columns\n",
    "df_imputed"
   ]
  },
  {
   "cell_type": "code",
   "execution_count": 6,
   "id": "4ce8e991",
   "metadata": {},
   "outputs": [
    {
     "name": "stdout",
     "output_type": "stream",
     "text": [
      "************************************************* age ************************************************************\n",
      "\n",
      "{2.0, 3.0, 4.0, 5.0, 6.0, 7.0, 8.0, 11.0, 12.0, 14.0, 15.0, 17.0, 19.0, 20.0, 21.0, 22.0, 23.0, 24.0, 25.0, 26.0, 27.0, 28.0, 29.0, 30.0, 32.0, 33.0, 34.0, 35.0, 36.0, 37.0, 38.0, 39.0, 40.0, 41.0, 42.0, 43.0, 44.0, 45.0, 46.0, 47.0, 48.0, 49.0, 50.0, 51.0, 52.0, 53.0, 54.0, 55.0, 56.0, 57.0, 58.0, 59.0, 60.0, 61.0, 62.0, 63.0, 64.0, 65.0, 66.0, 67.0, 68.0, 69.0, 70.0, 71.0, 72.0, 73.0, 74.0, 75.0, 76.0, 78.0, 79.0, 80.0, 81.0, 82.0, 83.0, 90.0}\n",
      "\n",
      "************************************************* wc ************************************************************\n",
      "\n",
      "{'26400', '19100', '6000', '4300', '10700', '5200', '16300', '6600', '14900', '10900', '4200', '16700', '7200', '18900', '11500', '10800', '8600', '9900', '4500', '5600', '8800', '12000', '5900', '5800', '2200', '6400', '11200', '7400', '11400', '4700', '5000', '8400', '12400', '4900', '9000', '9500', '11300', '7300', '\\t?', '12700', '9800', '11900', '3800', '12800', '12200', '13600', '11800', '7800', '9700', '7500', '8500', '15200', '6800', '7700', '8200', '10500', '12500', '13200', '7000', '6300', '5500', '10400', '9300', '4100', '5700', '14600', '6500', '2600', '8100', '21600', '\\t6200', '9400', '6200', '11000', '9200', '\\t8400', '9600', '8300', '6700', '6900', '10300', '5100', '10200', '8000', '5400', '15700', '12300', '7900', '7100', '9100', '12100', '5300'}\n",
      "\n",
      "************************************************* htn ************************************************************\n",
      "\n",
      "{'yes', 'no'}\n",
      "\n",
      "************************************************* dm ************************************************************\n",
      "\n",
      "{'no', ' yes', 'yes', '\\tyes', '\\tno'}\n",
      "\n",
      "************************************************* classification ************************************************************\n",
      "\n",
      "{'notckd', 'ckd', 'ckd\\t'}\n",
      "\n"
     ]
    }
   ],
   "source": [
    "# Finding Unique values in the columns\n",
    "\n",
    "for i in df_imputed.columns:\n",
    "    print(\"*************************************************\",i,\"************************************************************\")\n",
    "    print()\n",
    "    print(set(df_imputed[i].tolist()))\n",
    "    print()"
   ]
  },
  {
   "cell_type": "code",
   "execution_count": 9,
   "id": "459b1ff4",
   "metadata": {},
   "outputs": [],
   "source": [
    "df_imputed[\"classification\"]=df_imputed[\"classification\"].apply(lambda x:'ckd' if x==\"ckd\\t\"  else x)\n",
    "\n",
    "df_imputed[\"dm\"]=df_imputed[\"dm\"].apply(lambda x:'no' if x==\"\\tno\"  else x)\n",
    "df_imputed[\"dm\"]=df_imputed[\"dm\"].apply(lambda x:'yes' if x==\"\\tyes\"  else x)\n",
    "df_imputed[\"dm\"]=df_imputed[\"dm\"].apply(lambda x:'yes' if x==' yes'  else x)\n",
    "\n",
    "\n",
    "df_imputed[\"wc\"]=df_imputed[\"wc\"].apply(lambda x:'9800' if x=='\\t6200'  else x)\n",
    "df_imputed[\"wc\"]=df_imputed[\"wc\"].apply(lambda x:'9800' if x=='\\t8400'  else x)\n",
    "df_imputed[\"wc\"]=df_imputed[\"wc\"].apply(lambda x:'9800' if x== '\\t?'  else x)\n",
    "\n"
   ]
  },
  {
   "cell_type": "code",
   "execution_count": 10,
   "id": "9291e7d8",
   "metadata": {},
   "outputs": [
    {
     "name": "stdout",
     "output_type": "stream",
     "text": [
      "************************************************* age ************************************************************\n",
      "\n",
      "{2.0, 3.0, 4.0, 5.0, 6.0, 7.0, 8.0, 11.0, 12.0, 14.0, 15.0, 17.0, 19.0, 20.0, 21.0, 22.0, 23.0, 24.0, 25.0, 26.0, 27.0, 28.0, 29.0, 30.0, 32.0, 33.0, 34.0, 35.0, 36.0, 37.0, 38.0, 39.0, 40.0, 41.0, 42.0, 43.0, 44.0, 45.0, 46.0, 47.0, 48.0, 49.0, 50.0, 51.0, 52.0, 53.0, 54.0, 55.0, 56.0, 57.0, 58.0, 59.0, 60.0, 61.0, 62.0, 63.0, 64.0, 65.0, 66.0, 67.0, 68.0, 69.0, 70.0, 71.0, 72.0, 73.0, 74.0, 75.0, 76.0, 78.0, 79.0, 80.0, 81.0, 82.0, 83.0, 90.0}\n",
      "\n",
      "************************************************* wc ************************************************************\n",
      "\n",
      "{'26400', '19100', '6000', '4300', '10700', '5200', '16300', '6600', '14900', '10900', '4200', '16700', '7200', '18900', '11500', '10800', '8600', '9900', '4500', '5600', '8800', '12000', '5900', '5800', '2200', '6400', '11200', '7400', '11400', '4700', '5000', '8400', '12400', '4900', '9000', '9500', '11300', '7300', '12700', '9800', '11900', '3800', '12800', '12200', '13600', '11800', '7800', '9700', '7500', '8500', '15200', '6800', '7700', '8200', '10500', '12500', '13200', '7000', '6300', '5500', '10400', '9300', '4100', '5700', '14600', '6500', '2600', '8100', '21600', '9400', '6200', '11000', '9200', '9600', '8300', '6700', '6900', '10300', '5100', '10200', '8000', '5400', '15700', '12300', '7900', '7100', '9100', '12100', '5300'}\n",
      "\n",
      "************************************************* htn ************************************************************\n",
      "\n",
      "{'yes', 'no'}\n",
      "\n",
      "************************************************* dm ************************************************************\n",
      "\n",
      "{'yes', 'no'}\n",
      "\n",
      "************************************************* classification ************************************************************\n",
      "\n",
      "{'notckd', 'ckd'}\n",
      "\n"
     ]
    }
   ],
   "source": [
    "# Finding Unique values in the columns\n",
    "\n",
    "for i in df_imputed.columns:\n",
    "    print(\"*************************************************\",i,\"************************************************************\")\n",
    "    print()\n",
    "    print(set(df_imputed[i].tolist()))\n",
    "    print()"
   ]
  },
  {
   "cell_type": "code",
   "execution_count": 13,
   "id": "b6f42ff0",
   "metadata": {},
   "outputs": [],
   "source": [
    "df_imputed[\"wc\"]=df_imputed[\"wc\"].apply(lambda x: float(x))"
   ]
  },
  {
   "cell_type": "code",
   "execution_count": 14,
   "id": "380eb588",
   "metadata": {},
   "outputs": [
    {
     "name": "stdout",
     "output_type": "stream",
     "text": [
      "age               float64\n",
      "wc                float64\n",
      "htn                object\n",
      "dm                 object\n",
      "classification     object\n",
      "dtype: object\n"
     ]
    }
   ],
   "source": [
    "df_imputed.dtypes"
   ]
  },
  {
   "cell_type": "code",
   "execution_count": 15,
   "id": "08cc8871",
   "metadata": {},
   "outputs": [
    {
     "data": {
      "application/vnd.jupyter.widget-view+json": {
       "model_id": "8a095ca166d14eddabb7bf575f6a529d",
       "version_major": 2,
       "version_minor": 0
      },
      "text/plain": [
       "Button(description='Toggle Pandas/Lux', layout=Layout(top='5px', width='140px'), style=ButtonStyle())"
      ]
     },
     "metadata": {},
     "output_type": "display_data"
    },
    {
     "data": {
      "application/vnd.jupyter.widget-view+json": {
       "model_id": "acec395671d1410e83f2f0b587a086ae",
       "version_major": 2,
       "version_minor": 0
      },
      "text/plain": [
       "Output()"
      ]
     },
     "metadata": {},
     "output_type": "display_data"
    }
   ],
   "source": [
    "from sklearn import preprocessing\n",
    "\n",
    "df_enco=df_imputed.apply(preprocessing.LabelEncoder().fit_transform)\n",
    "df_enco"
   ]
  },
  {
   "cell_type": "code",
   "execution_count": 16,
   "id": "f6151498",
   "metadata": {},
   "outputs": [],
   "source": [
    "# Lets make some final changes to the data \n",
    "\n",
    "# Seperate independent and dependent variables and drop the ID column\n",
    "x=df_enco.drop([\"classification\"],axis=1)\n",
    "y=df_enco[\"classification\"]"
   ]
  },
  {
   "cell_type": "code",
   "execution_count": 17,
   "id": "42520523",
   "metadata": {},
   "outputs": [
    {
     "name": "stdout",
     "output_type": "stream",
     "text": [
      "Counter({0: 250, 1: 150})\n"
     ]
    }
   ],
   "source": [
    "# Lets detect the label balance\n",
    "from imblearn.over_sampling import RandomOverSampler\n",
    "from imblearn.under_sampling import RandomUnderSampler\n",
    "from collections import Counter\n",
    "\n",
    "print(Counter(y))"
   ]
  },
  {
   "cell_type": "code",
   "execution_count": 18,
   "id": "7e2ded0e",
   "metadata": {},
   "outputs": [
    {
     "name": "stdout",
     "output_type": "stream",
     "text": [
      "Counter({0: 250, 1: 250})\n"
     ]
    }
   ],
   "source": [
    "# Lets balance the labels\n",
    "\n",
    "ros = RandomOverSampler()\n",
    "\n",
    "X_ros, y_ros = ros.fit_resample(x, y)\n",
    "print(Counter(y_ros))"
   ]
  },
  {
   "cell_type": "code",
   "execution_count": 19,
   "id": "3024fb8e",
   "metadata": {},
   "outputs": [],
   "source": [
    "#Initialize a MinMaxScaler and scale the features to between -1 and 1 to normalize them. \n",
    "#The MinMaxScaler transforms features by scaling them to a given range.\n",
    "#The fit_transform() method fits to the data and then transforms it. We don’t need to scale the labels.\n",
    "#Scale the features to between -1 and 1\n",
    "\n",
    "# Scaling is important in the algorithms such as support vector machines (SVM) and k-nearest neighbors (KNN) where distance \n",
    "# between the data points is important.\n",
    "\n",
    "scaler=MinMaxScaler((-1,1))\n",
    "x=scaler.fit_transform(X_ros)\n",
    "y=y_ros"
   ]
  },
  {
   "cell_type": "code",
   "execution_count": 20,
   "id": "3000872c",
   "metadata": {},
   "outputs": [],
   "source": [
    "#Now,split the dataset into training and testing sets keeping 20% of the data for testing.\n",
    "#Split the dataset\n",
    "from sklearn.model_selection import train_test_split\n",
    "\n",
    "x_train,x_test,y_train,y_test=train_test_split(x, y, test_size=0.2, random_state=7)"
   ]
  },
  {
   "cell_type": "code",
   "execution_count": 21,
   "id": "32ad0e6a",
   "metadata": {},
   "outputs": [
    {
     "data": {
      "text/plain": [
       "RandomForestClassifier(max_depth=4, random_state=10)"
      ]
     },
     "execution_count": 21,
     "metadata": {},
     "output_type": "execute_result"
    }
   ],
   "source": [
    "from sklearn.ensemble import RandomForestClassifier \n",
    "model = RandomForestClassifier(max_depth=4, random_state = 10) \n",
    "model.fit(x_train, y_train)"
   ]
  },
  {
   "cell_type": "code",
   "execution_count": 23,
   "id": "7cb9e55b",
   "metadata": {},
   "outputs": [
    {
     "data": {
      "text/plain": [
       "0.89"
      ]
     },
     "execution_count": 23,
     "metadata": {},
     "output_type": "execute_result"
    }
   ],
   "source": [
    "from sklearn.metrics import accuracy_score\n",
    "pred_cv = model.predict(x_test)\n",
    "accuracy_score(y_test,pred_cv)"
   ]
  },
  {
   "cell_type": "code",
   "execution_count": 24,
   "id": "d7d0ac87",
   "metadata": {},
   "outputs": [],
   "source": [
    "# saving the model \n",
    "import pickle \n",
    "pickle_out = open(\"classifier.pkl\", mode = \"wb\") \n",
    "pickle.dump(model, pickle_out) \n",
    "pickle_out.close()"
   ]
  },
  {
   "cell_type": "code",
   "execution_count": 25,
   "id": "9ef9bcbd",
   "metadata": {},
   "outputs": [
    {
     "data": {
      "text/plain": [
       "Index(['age', 'wc', 'htn', 'dm', 'classification'], dtype='object')"
      ]
     },
     "execution_count": 25,
     "metadata": {},
     "output_type": "execute_result"
    }
   ],
   "source": [
    "df_imputed.columns"
   ]
  },
  {
   "cell_type": "code",
   "execution_count": 27,
   "id": "719ece62",
   "metadata": {},
   "outputs": [
    {
     "name": "stdout",
     "output_type": "stream",
     "text": [
      "Overwriting app.py\n"
     ]
    }
   ],
   "source": [
    "%%writefile app.py\n",
    " \n",
    "import pickle\n",
    "import streamlit as st\n",
    " \n",
    "# loading the trained model\n",
    "pickle_in = open('classifier.pkl', 'rb') \n",
    "classifier = pickle.load(pickle_in)\n",
    " \n",
    "@st.cache()\n",
    "  \n",
    "# defining the function which will make the prediction using the data which the user inputs \n",
    "def prediction(age, wc, htn, dm):   \n",
    " \n",
    "    # Pre-processing user input    \n",
    "    if htn == \"no\":\n",
    "        htn = 0\n",
    "    else:\n",
    "        htn = 1\n",
    " \n",
    "    if dm == \"no\":\n",
    "        dm = 0\n",
    "    else:\n",
    "        dm = 1\n",
    " \n",
    "      \n",
    "    # Making predictions \n",
    "    prediction = classifier.predict( \n",
    "        [[age, wc, htn, dm]])\n",
    "     \n",
    "    if prediction == 0:\n",
    "        pred = 'Kidney Disease not detected'\n",
    "    else:\n",
    "        pred = 'Kidny Disease found'\n",
    "    return pred\n",
    "      \n",
    "  \n",
    "# this is the main function in which we define our webpage  \n",
    "def main():       \n",
    "    # front end elements of the web page \n",
    "    html_temp = \"\"\" \n",
    "    <div style =\"background-color:cyan;padding:13px\"> \n",
    "    <h1 style =\"color:black;text-align:center;\">Kidney Disease Prediction</h1> \n",
    "    </div> \n",
    "    \"\"\"\n",
    "      \n",
    "    # display the front end aspect\n",
    "    st.markdown(html_temp, unsafe_allow_html = True) \n",
    "      \n",
    "    # following lines create boxes in which user can enter data required to make prediction \n",
    "    htn = st.selectbox('htn',(\"no\",\"yes\"))\n",
    "    dm = st.selectbox('dm Status',(\"no\",\"yes\")) \n",
    "    age = st.number_input(\"AGE\") \n",
    "    wc = st.number_input(\"WC\")\n",
    "    result =\"\"\n",
    "      \n",
    "    # when 'Predict' is clicked, make the prediction and store it \n",
    "    if st.button(\"Predict\"): \n",
    "        result = prediction(age, wc, htn, dm) \n",
    "        st.success('Report Results: {}'.format(result))\n",
    "        \n",
    "     \n",
    "if __name__=='__main__': \n",
    "    main()"
   ]
  },
  {
   "cell_type": "code",
   "execution_count": null,
   "id": "f21f27f3",
   "metadata": {},
   "outputs": [],
   "source": []
  }
 ],
 "metadata": {
  "kernelspec": {
   "display_name": "Python 3",
   "language": "python",
   "name": "python3"
  },
  "language_info": {
   "codemirror_mode": {
    "name": "ipython",
    "version": 3
   },
   "file_extension": ".py",
   "mimetype": "text/x-python",
   "name": "python",
   "nbconvert_exporter": "python",
   "pygments_lexer": "ipython3",
   "version": "3.8.8"
  }
 },
 "nbformat": 4,
 "nbformat_minor": 5
}
